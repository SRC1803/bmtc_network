{
 "cells": [
  {
   "cell_type": "code",
   "execution_count": null,
   "id": "3d960823",
   "metadata": {},
   "outputs": [],
   "source": [
    "import logging\n",
    "import json\n",
    "import os\n",
    "import requests\n",
    "import time\n",
    "import traceback\n",
    "import pandas as pd\n",
    "import geopandas as gpd\n",
    "from datetime import datetime, timedelta\n",
    "import pygeohash as pgh\n",
    "import folium\n",
    "import seaborn as sns\n",
    "import matplotlib.colors as mcolors\n",
    "import ast\n",
    "import math\n",
    "import numpy as np\n",
    "import geopy.distance\n",
    "import itertools"
   ]
  },
  {
   "cell_type": "code",
   "execution_count": null,
   "id": "a080e090",
   "metadata": {},
   "outputs": [],
   "source": [
    "import os\n",
    "os.chdir('/Users/apple/Desktop/bmtc_routes_data')\n",
    "os.getcwd()"
   ]
  },
  {
   "cell_type": "markdown",
   "id": "3616bf28",
   "metadata": {},
   "source": [
    "**Loading Data**"
   ]
  },
  {
   "cell_type": "code",
   "execution_count": null,
   "id": "939cbec5",
   "metadata": {},
   "outputs": [],
   "source": [
    "#Obtain trips data\n",
    "trips_raw = pd.read_csv('trips.txt', delimiter=',')\n",
    "routes_raw = pd.read_csv('routes.txt', delimiter=',')\n",
    "stops_raw = pd.read_csv('stops.txt', delimiter=',')\n",
    "stop_times_raw = pd.read_csv('stop_times.txt', delimiter=',')"
   ]
  },
  {
   "cell_type": "markdown",
   "id": "0f941c1d",
   "metadata": {},
   "source": [
    "**What we need is**\n",
    "\n",
    "__1.__ stop_name, stop_lat, stop_lon, trip_count  <br>\n",
    "__2.__ route_name, route_id, direction_id, sequence_of_stops, trip_count  <br>"
   ]
  },
  {
   "cell_type": "code",
   "execution_count": null,
   "id": "42127d90",
   "metadata": {},
   "outputs": [],
   "source": [
    "stops_agg = stops_raw[['stop_name', 'stop_id', 'stop_lat', 'stop_lon']].merge(\n",
    "    stop_times_raw[['stop_id', 'trip_id']], on = 'stop_id', how = 'inner').merge(\n",
    "    trips_raw[['trip_id']], on = 'trip_id', how = 'inner'\n",
    ").groupby('stop_name').agg({'stop_lat': 'mean', 'stop_lon': 'mean', 'trip_id': 'nunique'}).reset_index(drop=False).copy(deep=True)\n",
    "\n",
    "stops_agg.columns = ['stop_name', 'lat', 'lng', 'trips']\n",
    "stops_agg.to_csv('stops_agg.csv', index=False)\n",
    "stops_agg.head(5)"
   ]
  },
  {
   "cell_type": "code",
   "execution_count": null,
   "id": "1b9df53a",
   "metadata": {},
   "outputs": [],
   "source": [
    "routes_all = routes_raw[['route_id', 'route_short_name']].merge(\n",
    "    trips_raw[['route_id', 'trip_id', 'direction_id']], on = 'route_id', how = 'inner').merge(\n",
    "    stop_times_raw[['trip_id', 'stop_id', 'stop_sequence']], on = 'trip_id', how = 'inner').merge(\n",
    "    stops_raw[['stop_id', 'stop_name']], on = 'stop_id', how = 'inner'\n",
    ").copy(deep=True)\n",
    "# [routes_all.route_short_name.str.contains('500', case=False)]\n",
    "\n",
    "routes_agg = routes_all.groupby(['route_id','route_short_name']).agg({\n",
    "    'trip_id': 'nunique'}).reset_index(drop=False).merge(\n",
    "    routes_all[['route_short_name', 'direction_id', \n",
    "                'stop_sequence', 'stop_name']].drop_duplicates().sort_values(by=[\n",
    "    'route_short_name', 'direction_id', 'stop_sequence']).groupby([\n",
    "    'route_short_name', 'direction_id'])['stop_name'].agg(list).reset_index(drop=False),\n",
    "    on = ['route_short_name'], how = 'inner' \n",
    ").reset_index(drop=True).copy(deep=True)\n",
    "\n",
    "routes_agg.columns = ['route_id', 'route_short_name', 'trips', 'direction_id', 'stop_list']\n",
    "routes_agg.to_csv('routes_agg.csv', index=False)\n",
    "routes_agg.head(5)"
   ]
  },
  {
   "cell_type": "code",
   "execution_count": null,
   "id": "546313c5",
   "metadata": {},
   "outputs": [],
   "source": [
    "# Load stops data\n",
    "stops_df = stops_agg.copy(deep=True)\n",
    "stops_df['lat_lng'] = stops_df.apply(lambda x: (x['lat'], x['lng']), axis=1)\n",
    "stops_df.head(3)"
   ]
  },
  {
   "cell_type": "code",
   "execution_count": null,
   "id": "9781c038",
   "metadata": {},
   "outputs": [],
   "source": [
    "# Load routes data\n",
    "routes_df = routes_agg.copy(deep=True)\n",
    "routes_df.head(3)"
   ]
  },
  {
   "cell_type": "code",
   "execution_count": null,
   "id": "6e44cf14",
   "metadata": {},
   "outputs": [],
   "source": [
    "# Bengaluru center - center of all bus stops\n",
    "bengaluru_center = (np.mean(stops_df.lat), np.mean(stops_df.lng))\n",
    "bengaluru_center"
   ]
  },
  {
   "cell_type": "markdown",
   "id": "bf4847ed",
   "metadata": {},
   "source": [
    "### Mapping Stops by their level of activity\n",
    "\n",
    "- For a stop to be active, a fair expectation can be set of having a bus arrive on an average of every 20 minutes or sooner (assume an average of one bus every 10 mins during earthly hours - 8am to 8pm)\n",
    "- That makes it an average of 72 trips/day\n",
    "\n",
    "- We define stops in the following manner:  <br>\n",
    "_1._ Active Stops -> >= 72 trips/day # A bus every 20 mins or more frequently <br>\n",
    "_2._ Infrequent Stops -> 72 > trips/day >= 24 # A bus every hour to every 20 mins <br>\n",
    "_3._ Dormant Stops -> < 24 trips/day # Less than one bus every hour <br>\n",
    "\n",
    "- They will me mapped Green, Yellow, Red respectively"
   ]
  },
  {
   "cell_type": "code",
   "execution_count": null,
   "id": "13b7d7a3",
   "metadata": {},
   "outputs": [],
   "source": [
    "palette = \"RdYlGn\"\n",
    "p = sns.color_palette(palette, 3).as_hex()\n",
    "p#[0]\n",
    "\n",
    "stops_df['stop_freq_code'] = stops_df.apply(\n",
    "    lambda x: 'dormant' if x['trips'] < 24 else 'infrequent' if x['trips'] < 72 else 'active', axis=1)\n",
    "stops_df['stop_freq_color'] = stops_df.apply(\n",
    "    lambda x: p[0] if x['trips'] < 24 else p[1] if x['trips'] < 72 else p[2], axis=1)\n",
    "\n",
    "m = folium.Map(location=bengaluru_center, zoom_start=10)\n",
    "\n",
    "for i in set(stops_df['stop_freq_color']):\n",
    "    \n",
    "    stop_locations = stops_df.loc[stops_df.stop_freq_color==i].copy(deep=True)\n",
    "    \n",
    "    for j, r in stop_locations[['lat', 'lng', 'stop_name']].iterrows():\n",
    "        folium.Circle(\n",
    "            location=[float(r['lat']), float(r['lng'])],\n",
    "            radius=20,  # Radius in meters\n",
    "            color=i,\n",
    "            fill=True,\n",
    "            fill_color=i,\n",
    "            popup=r['stop_name']\n",
    "        ).add_to(m)\n",
    "\n",
    "# Display the map\n",
    "m"
   ]
  },
  {
   "cell_type": "markdown",
   "id": "0a41c61c",
   "metadata": {},
   "source": [
    "### Mapping Limits of Bengaluru"
   ]
  },
  {
   "cell_type": "code",
   "execution_count": null,
   "id": "705b4c45",
   "metadata": {},
   "outputs": [],
   "source": [
    "polygon_city = [(12.840555555555556, 77.67611111111111), (12.855833333333333, 77.66444444444446), (12.865, 77.63611111111112), (12.845555555555556, 77.59305555555555), (12.844722222222222, 77.55611111111111), (12.867777777777778, 77.49666666666667), (12.901944444444444, 77.46666666666667), (12.994444444444444, 77.4675), (13.057500000000001, 77.4738888888889), (13.088333333333335, 77.49277777777777), (13.126111111111111, 77.55222222222221), (13.131388888888889, 77.57472222222222), (13.129722222222222, 77.61611111111111), (13.114722222222222, 77.68805555555556), (13.0875, 77.73944444444444), (13.052222222222223, 77.77333333333333), (12.986666666666666, 77.7863888888889), (12.886666666666667, 77.74527777777777), (12.856388888888889, 77.71194444444444), (12.840555555555556, 77.67611111111111)]\n",
    "\n",
    "# Define the coordinates of the polygon vertices\n",
    "polygon_coords = polygon_city.copy()\n",
    "# Create a map centered around the mean of the coordinates\n",
    "map_center = [np.mean([lat for lat, long in polygon_coords]), np.mean([long for lat, long in polygon_coords])]\n",
    "m = folium.Map(location=map_center, zoom_start=11)\n",
    "\n",
    "# Add the polygon to the map\n",
    "folium.Polygon(locations=polygon_coords, color='orange', fill=True).add_to(m)\n",
    "c=0\n",
    "# Add a marker for each coordinate, with a popup showing the latitude and longitude\n",
    "for lat, lon in polygon_coords[:-1]:  # Exclude the last point as it's same as the first\n",
    "    c=c+1\n",
    "    folium.Marker([round(lat,4), round(lon,4)], popup=f'{c}: ({round(lat,4)}, {round(lon,4)})').add_to(m)\n",
    "\n",
    "# Display the map\n",
    "m\n"
   ]
  },
  {
   "cell_type": "markdown",
   "id": "cd1963e4",
   "metadata": {},
   "source": [
    "### Get all Geohashes within the polygon"
   ]
  },
  {
   "cell_type": "code",
   "execution_count": null,
   "id": "7895def4",
   "metadata": {},
   "outputs": [],
   "source": [
    "def get_geohashes_in_polygon(polygon, precision):\n",
    "    # Find the bounding box of the polygon\n",
    "    min_lat = min(polygon, key=lambda x: x[0])[0]\n",
    "    max_lat = max(polygon, key=lambda x: x[0])[0]\n",
    "    min_lon = min(polygon, key=lambda x: x[1])[1]\n",
    "    max_lon = max(polygon, key=lambda x: x[1])[1]\n",
    "\n",
    "    # Start with an arbitrary point in the bounding box\n",
    "    current_point = (min_lat, min_lon)\n",
    "\n",
    "    # Store geohashes in a set to avoid duplicates\n",
    "    geohashes = set()\n",
    "\n",
    "    while current_point[1] <= max_lon:\n",
    "        while current_point[0] <= max_lat:\n",
    "            # Generate geohash for the current point\n",
    "            geohash = pgh.encode(current_point[0], current_point[1], precision=precision)\n",
    "            geohashes.add(geohash)\n",
    "\n",
    "            # Move north by approximately one geohash cell\n",
    "            current_point = geopy.distance.distance(kilometers=geohash_size_km(precision)['vert']).destination(current_point, bearing=0)\n",
    "\n",
    "        # Move east by one cell and reset latitude\n",
    "        current_point = geopy.distance.distance(kilometers=geohash_size_km(precision)['horiz']).destination((min_lat, current_point[1]), bearing=90)\n",
    "        current_point = (min_lat, current_point[1])\n",
    "\n",
    "    # Filter geohashes that are actually inside the polygon\n",
    "    return [gh for gh in geohashes if is_geohash_in_polygon(gh, polygon, precision)]\n",
    "\n",
    "def geohash_size_km(precision):\n",
    "    # Approximate sizes of geohash cells at different precisions in kilometers\n",
    "    sizes_h = [5000, 1250, 156, 39, 4.9, 1.2, 0.140, 0.038, 0.0048, 0.0012] # horizontal\n",
    "    sizes_v = [5000, 1250/2, 156, 39/2, 4.9, 1.2/2, 0.140, 0.038/2, 0.0048, 0.0012/2] # vertical\n",
    "    return {'vert': sizes_v[precision - 1], 'horiz': sizes_h[precision - 1]}\n",
    "\n",
    "def is_geohash_in_polygon(gh, polygon, precision):\n",
    "    # Check if the center of a geohash is inside the polygon\n",
    "    lat, lon = pgh.decode_exactly(gh)[:2]\n",
    "    return point_in_polygon((lat, lon), polygon)\n",
    "\n",
    "def point_in_polygon(point, polygon):\n",
    "    # A simple algorithm to check if a point is inside a polygon\n",
    "    # Note: This is for demonstration purposes and may not handle complex polygons or edge cases accurately.\n",
    "    x, y = point\n",
    "    n = len(polygon)\n",
    "    inside = False\n",
    "\n",
    "    p1x, p1y = polygon[0]\n",
    "    for i in range(n + 1):\n",
    "        p2x, p2y = polygon[i % n]\n",
    "        if y > min(p1y, p2y):\n",
    "            if y <= max(p1y, p2y):\n",
    "                if x <= max(p1x, p2x):\n",
    "                    if p1y != p2y:\n",
    "                        xints = (y - p1y) * (p2x - p1x) / (p2y - p1y) + p1x\n",
    "                    if p1x == p2x or x <= xints:\n",
    "                        inside = not inside\n",
    "        p1x, p1y = p2x, p2y\n",
    "\n",
    "    return inside\n",
    "\n",
    "bangalore_geohash_6 = pd.DataFrame(get_geohashes_in_polygon(polygon_city, precision = 6))\n",
    "bangalore_geohash_6.columns = ['geohash6']\n",
    "bangalore_geohash_7 = pd.DataFrame(get_geohashes_in_polygon(polygon_city, precision = 7))\n",
    "bangalore_geohash_7.columns = ['geohash7']"
   ]
  },
  {
   "cell_type": "markdown",
   "id": "c2119e76",
   "metadata": {},
   "source": [
    "### Get center and bounding box of geohashes"
   ]
  },
  {
   "cell_type": "code",
   "execution_count": null,
   "id": "c6690e37",
   "metadata": {},
   "outputs": [],
   "source": [
    "# Function to get the bounding box corners of a geohash\n",
    "def geohash_to_polygon(ghash):\n",
    "    coords = pgh.decode_exactly(ghash)\n",
    "    center = (coords[0], coords[1])\n",
    "    north = coords[0]+coords[2]\n",
    "    south = coords[0]-coords[2]\n",
    "    east = coords[1]+coords[3]\n",
    "    west = coords[1]-coords[3]\n",
    "    \n",
    "    return [(south, west), (north, west), (north, east), (south, east)]\n",
    "\n",
    "bangalore_geohash_6['center'] = bangalore_geohash_6.geohash6.apply(lambda x: (pgh.decode_exactly(x)[0], pgh.decode_exactly(x)[1]))\n",
    "bangalore_geohash_7['center'] = bangalore_geohash_7.geohash7.apply(lambda x: (pgh.decode_exactly(x)[0], pgh.decode_exactly(x)[1]))\n",
    "bangalore_geohash_6['bbox'] = bangalore_geohash_6.geohash6.apply(geohash_to_polygon)\n",
    "bangalore_geohash_7['bbox'] = bangalore_geohash_7.geohash7.apply(geohash_to_polygon)\n",
    "bangalore_geohash_6.head(3)"
   ]
  },
  {
   "cell_type": "markdown",
   "id": "6ce6d6a9",
   "metadata": {},
   "source": [
    "### Get minimum distance of an active stop from a geohash"
   ]
  },
  {
   "cell_type": "code",
   "execution_count": null,
   "id": "53933e9f",
   "metadata": {},
   "outputs": [],
   "source": [
    "from math import radians, cos, sin, asin, sqrt\n",
    "\n",
    "def haversine(lat1, lon1, lat2, lon2):\n",
    "    R = 6372.8 # this is in kilometers.  For Earth radius in miles use 3959.87433 miles\n",
    "#     R = 3959.87433 # this is in miles.  For Earth radius in kilometers use 6372.8 km\n",
    "    \n",
    "    dLat = radians(lat2 - lat1)\n",
    "    dLon = radians(lon2 - lon1)\n",
    "    lat1 = radians(lat1)\n",
    "    lat2 = radians(lat2)\n",
    "\n",
    "    a = sin(dLat/2)**2 + cos(lat1)*cos(lat2)*sin(dLon/2)**2\n",
    "    c = 2*asin(sqrt(a))\n",
    "\n",
    "    return R * c * 1000 # distance in meters\n",
    "\n",
    "# Find areas in Bangalore 7 Geohashes 1km or more away from Active stops\n",
    "def stops_closest(loc, stops_list):\n",
    "    return (min([haversine(loc[0], loc[1], s[0], s[1]) for s in stops_list]))\n",
    "\n",
    "#stops_closest((1,2), 1)\n",
    "bangalore_geohash_7['closest_active_stop_dist'] = bangalore_geohash_7.center.apply(lambda x: stops_closest(\n",
    "    x, stops_list = list(stops_df[stops_df['stop_freq_code']=='active']['lat_lng'])))\n",
    "bangalore_geohash_7.head(5)"
   ]
  },
  {
   "cell_type": "markdown",
   "id": "b4385427",
   "metadata": {},
   "source": [
    "#### Mapping Areas based on distance from the nearest active stop (haversine distance taken for simplicity)\n",
    "- Green - within 500m \n",
    "- Yellow - 500m to 1km \n",
    "- Red - beyond 1km"
   ]
  },
  {
   "cell_type": "code",
   "execution_count": null,
   "id": "452126a8",
   "metadata": {},
   "outputs": [],
   "source": [
    "palette = \"RdYlGn_r\"\n",
    "p = sns.color_palette(palette, 3).as_hex()\n",
    "p#[0]\n",
    "\n",
    "bangalore_geohash_7['closest_band'] = bangalore_geohash_7.apply(\n",
    "    lambda x: 'a. within 500m' if x['closest_active_stop_dist'] < 500 \n",
    "    else 'b. within 1km' if x['closest_active_stop_dist'] < 1000 else 'c. beyond 1km', axis=1)\n",
    "bangalore_geohash_7['closeness_color'] = bangalore_geohash_7.apply(\n",
    "    lambda x: p[0] if x['closest_active_stop_dist'] < 500 \n",
    "    else p[1] if x['closest_active_stop_dist'] < 1000 else p[2], axis=1)\n"
   ]
  },
  {
   "cell_type": "code",
   "execution_count": null,
   "id": "5015da33",
   "metadata": {},
   "outputs": [],
   "source": [
    "# Create a map centered around the first geohash\n",
    "m = folium.Map(location=bengaluru_center, zoom_start=11)\n",
    "\n",
    "# Plot each geohash\n",
    "for index, row in bangalore_geohash_7.iterrows():\n",
    "    polygon = geohash_to_polygon(row['geohash7'])\n",
    "    folium.Polygon(locations=polygon, color=row['closeness_color'], fill=True, \n",
    "                   fill_opacity=0.4, weight=0).add_to(m)\n",
    "\n",
    "# Display the map\n",
    "m"
   ]
  },
  {
   "cell_type": "markdown",
   "id": "255097dc",
   "metadata": {},
   "source": [
    "##### It can be seen that a few important areas like Bellandur-Varthur, Harlur and arterial roads from Sarjapur Road are not covered well by BMTC"
   ]
  },
  {
   "cell_type": "markdown",
   "id": "9ad889be",
   "metadata": {},
   "source": [
    "### Next, we look at 1 stop Reachability"
   ]
  },
  {
   "cell_type": "code",
   "execution_count": null,
   "id": "83c2ab9f",
   "metadata": {},
   "outputs": [],
   "source": [
    "# First, we look at all possible combinations of trips\n",
    "routes_temp = []\n",
    "for index, row in routes_df.iterrows():\n",
    "    stop_combinations = list(itertools.combinations(row['stop_list'],2))\n",
    "    for i in stop_combinations:\n",
    "        routes_temp.append({'route': row['route_short_name'], 'direction': row['direction_id'], \n",
    "                            'from_stop': i[0], 'to_stop': i[1], 'trips': row['trips']})\n",
    "\n",
    "routes_combinations = pd.DataFrame(routes_temp)\n",
    "routes_combinations[routes_combinations.route=='500-CA'].head(5)"
   ]
  },
  {
   "cell_type": "markdown",
   "id": "b7fdbf08",
   "metadata": {},
   "source": [
    "##### We shortlist pairs of stop combinations with >= 72 trips between them"
   ]
  },
  {
   "cell_type": "code",
   "execution_count": null,
   "id": "46b3d736",
   "metadata": {},
   "outputs": [],
   "source": [
    "direct_connectivity_df = routes_combinations[['from_stop','to_stop','trips']].groupby([\n",
    "    'from_stop','to_stop']).agg({'trips': 'sum'}).reset_index().groupby([\n",
    "    'from_stop','to_stop']).filter(lambda x: x['trips'].sum() >= 72).reset_index(drop=True)\n",
    "direct_connectivity_df.head(5)"
   ]
  },
  {
   "cell_type": "code",
   "execution_count": null,
   "id": "2374f551",
   "metadata": {},
   "outputs": [],
   "source": [
    "onestop_connectivity_df = direct_connectivity_df[['from_stop','to_stop']].merge(direct_connectivity_df,\n",
    "                                                                                left_on = ['to_stop'],\n",
    "                                                                                right_on = ['from_stop'],\n",
    "                                                                                suffixes = ['_1', '_2']\n",
    "                                                                               ).copy(deep=True)\n",
    "\n",
    "onestop_connectivity_df = onestop_connectivity_df[\n",
    "    onestop_connectivity_df.from_stop_1 != onestop_connectivity_df.to_stop_2].reset_index(drop=True).copy(deep=True)\n",
    "onestop_connectivity_df.head(5)"
   ]
  },
  {
   "cell_type": "markdown",
   "id": "1214cc72",
   "metadata": {},
   "source": [
    "##### Get all geohashes within a fixed radius of a stop"
   ]
  },
  {
   "cell_type": "code",
   "execution_count": null,
   "id": "2f4d1946",
   "metadata": {},
   "outputs": [],
   "source": [
    "# Works for geohash 8 or below(<=8)\n",
    "def get_geohashes(lat_long, reachable_radius = 0.5, precision = 8):\n",
    "    try:\n",
    "        earth_circumference_km = 40075\n",
    "        # Convert original latitude longitude to radians\n",
    "        lat_rad = math.radians(lat_long[0]) \n",
    "        long_rad = math.radians(lat_long[1])\n",
    "\n",
    "        # Calculate the change in latitude and longitude in radians\n",
    "        delta_rad = (reachable_radius / earth_circumference_km) * 2 * math.pi\n",
    "        lat_max, lat_min, long_max, long_min = math.degrees(lat_rad+delta_rad), math.degrees(lat_rad-delta_rad), math.degrees(long_rad+delta_rad), math.degrees(long_rad-delta_rad)\n",
    "\n",
    "        geohashes = set()\n",
    "        distance_gh = 0.015\n",
    "        earth_circumference_km = 40075\n",
    "        rad_movement = (distance_gh / earth_circumference_km) * 2 * math.pi\n",
    "        lat_set, long_set = lat_min, long_min\n",
    "\n",
    "        while lat_set < lat_max:\n",
    "            \n",
    "            while long_set < long_max:\n",
    "                if haversine(lat_set, long_set, lat_long[0], lat_long[1]) <= reachable_radius*1000:\n",
    "                    geohash = pgh.encode(lat_set, long_set, precision=precision)\n",
    "                    geohashes.add(geohash)\n",
    "                # Move east\n",
    "                long_set = long_set + math.degrees(rad_movement)\n",
    "            # Move north\n",
    "            lat_set = lat_set + math.degrees(rad_movement)\n",
    "            long_set = long_min\n",
    "        return geohashes\n",
    "    except:\n",
    "        print(lat_long[0], lat_long[1], reachable_radius, precision)\n",
    "\n",
    "geohashes = get_geohashes([12.91644, 77.63458], reachable_radius = 0.5, precision = 8)\n",
    "# print(geohashes)\n",
    "# List of geohashes to plot"
   ]
  },
  {
   "cell_type": "code",
   "execution_count": null,
   "id": "f80496b2",
   "metadata": {},
   "outputs": [],
   "source": [
    "from tqdm.notebook import tqdm\n",
    "tqdm.pandas()\n",
    "stops_df['loc_geohashes'] = stops_df.progress_apply(lambda x: get_geohashes(x['lat_lng'], precision=7) , axis=1)"
   ]
  },
  {
   "cell_type": "code",
   "execution_count": null,
   "id": "0c7c36c2",
   "metadata": {},
   "outputs": [],
   "source": [
    "def get_lat_long_and_distance(from_stop, to_stop, stops_data = stops_df):\n",
    "    try:\n",
    "        from_loc = list(stops_data[stops_data['stop_name'] == from_stop].iloc[0]['lat_lng'])\n",
    "        to_loc = list(stops_data[stops_data['stop_name'] == to_stop].iloc[0]['lat_lng'])\n",
    "        to_gh = list(stops_data[stops_data['stop_name'] == to_stop].iloc[0]['loc_geohashes'])\n",
    "\n",
    "        return ({'from_loc': from_loc, 'to_loc': to_loc, 'to_gh': to_gh})\n",
    "    except:\n",
    "        print (from_stop, to_stop)#, from_loc, to_loc)\n",
    "        return ({'from_loc': 99.99, 'to_loc': 99.99, 'to_gh': 'aaaaaaaa'})\n",
    "\n",
    "direct_connectivity_df['locations'] = direct_connectivity_df.progress_apply(lambda x: get_lat_long_and_distance(x['from_stop'], \n",
    "                                                                                          x['to_stop']\n",
    "                                                                                         ), axis = 1)\n",
    "direct_connectivity_df = pd.concat([direct_connectivity_df.drop(['locations'], axis=1),\n",
    "                                    pd.json_normalize(direct_connectivity_df['locations'])], axis=1\n",
    "                                  )\n",
    "direct_connectivity_df.head(5)\n"
   ]
  },
  {
   "cell_type": "code",
   "execution_count": null,
   "id": "1a34ca82",
   "metadata": {},
   "outputs": [],
   "source": [
    "# onestop_connectivity_df['locations'] = onestop_connectivity_df.progress_apply(\n",
    "#     lambda x: get_lat_long_and_distance(x['from_stop_1'], x['to_stop_2']), axis = 1)\n",
    "# onestop_connectivity_df = pd.concat([onestop_connectivity_df.drop(['locations'], axis=1),\n",
    "#                                     pd.json_normalize(onestop_connectivity_df['locations'])], axis=1\n",
    "#                                   )\n",
    "# onestop_connectivity_df.head(5)"
   ]
  },
  {
   "cell_type": "code",
   "execution_count": null,
   "id": "7bbe4230",
   "metadata": {},
   "outputs": [],
   "source": [
    "stops_df[stops_df['stop_name'].str.lower().str.contains('carmelram')].sort_values(by='geohashes_reached', \n",
    "                                                                                ascending=False)"
   ]
  },
  {
   "cell_type": "code",
   "execution_count": null,
   "id": "bfa2cf6b",
   "metadata": {},
   "outputs": [],
   "source": [
    "gh_set = []\n",
    "for i in stops_df.stop_name:\n",
    "    sub_df = direct_connectivity_df[direct_connectivity_df.from_stop == i].reset_index(drop=True).copy(deep=True)\n",
    "    sub_gh_set = []\n",
    "#     print (i)\n",
    "    for j, r in sub_df.iterrows():\n",
    "        sub_gh_set.extend(r['to_gh'])\n",
    "#         print (sub_gh_set)\n",
    "    gh_set.append(list(set(sub_gh_set)))\n",
    "\n",
    "stops_df['direct_connect_geohashes'] = gh_set\n",
    "stops_df.head(3)"
   ]
  },
  {
   "cell_type": "code",
   "execution_count": null,
   "id": "e3e44446",
   "metadata": {},
   "outputs": [],
   "source": [
    "stops_df['geohashes_reached'] = stops_df.apply(lambda x: len(x.direct_connect_geohashes), axis=1)\n",
    "stops_df.sort_values(by='geohashes_reached', ascending=False).head(5)"
   ]
  },
  {
   "cell_type": "code",
   "execution_count": null,
   "id": "df9bb37e",
   "metadata": {},
   "outputs": [],
   "source": [
    "def geohash_to_polygon(ghash):\n",
    "    try:\n",
    "        coords = pgh.decode_exactly(ghash)\n",
    "        north = coords[0]+coords[2]\n",
    "        south = coords[0]-coords[2]\n",
    "        east = coords[1]+coords[3] \n",
    "        west = coords[1]-coords[3]\n",
    "\n",
    "        return [(south, west), (north, west), \n",
    "                (north, east), (south, east), \n",
    "                (south, west)]\n",
    "    except:\n",
    "        print('error')\n",
    "        return [(0, 0), (0, 0), \n",
    "                (0, 0), (0, 0), \n",
    "                (0, 0)]\n",
    "\n",
    "def geohash_plot(station_name, stops_df = stops_df):\n",
    "    # Create a map centered around the first geohash\n",
    "    m = folium.Map(location = bengaluru_center, zoom_start = 12)\n",
    "    # Plot each geohash\n",
    "    for ghash in stops_df.loc[stops_df.stop_name==station_name].direct_connect_geohashes.values[0]:\n",
    "        polygon = geohash_to_polygon(ghash)\n",
    "        folium.Polygon(locations=polygon, color='blue', fill=True, fill_opacity=0.4, weight=0#, popup=ghash\n",
    "                  ).add_to(m)\n",
    "    \n",
    "    folium.Marker(location=[stops_df.loc[stops_df.stop_name==station_name]['lat'].values[0], \n",
    "                            stops_df.loc[stops_df.stop_name==station_name]['lng'].values[0]], \n",
    "                  color='red', fill=True, fill_opacity=0.4, weight=0, popup=station_name\n",
    "                  ).add_to(m)\n",
    "    # Display the map\n",
    "    return m"
   ]
  },
  {
   "cell_type": "code",
   "execution_count": null,
   "id": "adb51c59",
   "metadata": {},
   "outputs": [],
   "source": [
    "m1 = geohash_plot('Kempegowda Bus Station')\n",
    "m1"
   ]
  },
  {
   "cell_type": "code",
   "execution_count": null,
   "id": "76d24295",
   "metadata": {},
   "outputs": [],
   "source": [
    "m1 = geohash_plot('Malleshwara Circle')\n",
    "m1"
   ]
  },
  {
   "cell_type": "code",
   "execution_count": null,
   "id": "f3e8adca",
   "metadata": {
    "scrolled": false
   },
   "outputs": [],
   "source": [
    "m1 = geohash_plot('Banashankari Bus Station')\n",
    "m1"
   ]
  },
  {
   "cell_type": "code",
   "execution_count": null,
   "id": "2ff7f39a",
   "metadata": {},
   "outputs": [],
   "source": [
    "m1 = geohash_plot('Tin Factory')\n",
    "m1"
   ]
  },
  {
   "cell_type": "code",
   "execution_count": null,
   "id": "87da267a",
   "metadata": {},
   "outputs": [],
   "source": [
    "m1 = geohash_plot('Koramangala Water Tank')\n",
    "m1"
   ]
  },
  {
   "cell_type": "code",
   "execution_count": null,
   "id": "d39c7c76",
   "metadata": {},
   "outputs": [],
   "source": [
    "m1 = geohash_plot('Eco Space')\n",
    "m1"
   ]
  },
  {
   "cell_type": "code",
   "execution_count": null,
   "id": "f42bc3df",
   "metadata": {},
   "outputs": [],
   "source": [
    "m1 = geohash_plot('Doddakannalli')\n",
    "# Carmelram Gate\n",
    "m1"
   ]
  },
  {
   "cell_type": "code",
   "execution_count": null,
   "id": "47ee7fb5",
   "metadata": {},
   "outputs": [],
   "source": [
    "m1 = geohash_plot('ITPL')\n",
    "m1"
   ]
  },
  {
   "cell_type": "code",
   "execution_count": null,
   "id": "775e1a3d",
   "metadata": {},
   "outputs": [],
   "source": [
    "reachable_intensity_df = stops_df[['lat', 'lng', 'geohashes_reached']][\n",
    "    stops_df.geohashes_reached>0].reset_index(drop=True).copy(deep=True)\n",
    "reachable_intensity_df.geohashes_reached.hist()"
   ]
  },
  {
   "cell_type": "code",
   "execution_count": null,
   "id": "b1789cec",
   "metadata": {},
   "outputs": [],
   "source": [
    "# Plotting histogram on a log scale\n",
    "import matplotlib.pyplot as plt\n",
    "plt.hist(reachable_intensity_df.geohashes_reached, log=True)\n",
    "plt.xlabel('Geohashes Reached')\n",
    "plt.ylabel('Frequency (log scale)')\n",
    "plt.title('Histogram of Geohashes Reached (log scale)')\n",
    "plt.show()"
   ]
  },
  {
   "cell_type": "code",
   "execution_count": null,
   "id": "2c8b12b6",
   "metadata": {},
   "outputs": [],
   "source": [
    "from folium.plugins import HeatMap\n",
    "\n",
    "# Calculate the logarithm of the values\n",
    "reachable_intensity_df['log_geohashes_reached'] = reachable_intensity_df['geohashes_reached']# np.log(reachable_intensity_df['geohashes_reached'] + 1)  # Adding 1 to avoid log(0)\n",
    "\n",
    "# Create a map centered at the mean latitude and longitude\n",
    "center_lat = reachable_intensity_df['lat'].mean()\n",
    "center_lng = reachable_intensity_df['lng'].mean()\n",
    "mymap = folium.Map(location=[center_lat, center_lng], zoom_start=12)\n",
    "\n",
    "# Convert the data to a list of [lat, lng, intensity]\n",
    "heat_data = [[row['lat'], row['lng'], row['log_geohashes_reached']] for index, row in reachable_intensity_df.iterrows()]\n",
    "\n",
    "# Plot the heatmap with log scale\n",
    "HeatMap(heat_data, min_opacity=0.3).add_to(mymap)\n",
    "\n",
    "# Save the map to an HTML file\n",
    "mymap.save(\"heatmap_log_scale.html\")\n",
    "\n",
    "# Display the map\n",
    "mymap\n"
   ]
  }
 ],
 "metadata": {
  "kernelspec": {
   "display_name": "Python 3 (ipykernel)",
   "language": "python",
   "name": "python3"
  },
  "language_info": {
   "codemirror_mode": {
    "name": "ipython",
    "version": 3
   },
   "file_extension": ".py",
   "mimetype": "text/x-python",
   "name": "python",
   "nbconvert_exporter": "python",
   "pygments_lexer": "ipython3",
   "version": "3.11.5"
  }
 },
 "nbformat": 4,
 "nbformat_minor": 5
}
